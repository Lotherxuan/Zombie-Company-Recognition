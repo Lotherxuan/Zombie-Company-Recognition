{
 "nbformat": 4,
 "nbformat_minor": 2,
 "metadata": {
  "language_info": {
   "name": "python",
   "codemirror_mode": {
    "name": "ipython",
    "version": 3
   },
   "version": "3.7.4-final"
  },
  "orig_nbformat": 2,
  "file_extension": ".py",
  "mimetype": "text/x-python",
  "name": "python",
  "npconvert_exporter": "python",
  "pygments_lexer": "ipython3",
  "version": 3,
  "kernelspec": {
   "name": "python37464bitbaseconda34a90a4a34b4411792b3131c31ec0620",
   "display_name": "Python 3.7.4 64-bit ('base': conda)"
  }
 },
 "cells": [
  {
   "cell_type": "code",
   "execution_count": 1,
   "metadata": {},
   "outputs": [],
   "source": [
    "import numpy as np\n",
    "import pandas as pd"
   ]
  },
  {
   "cell_type": "code",
   "execution_count": 18,
   "metadata": {},
   "outputs": [],
   "source": [
    "d=pd.read_csv('data_with_na.csv',encoding='utf-8')\n",
    "d.drop(['ID','Unnamed: 0'],axis=1,inplace=True)"
   ]
  },
  {
   "cell_type": "code",
   "execution_count": 19,
   "metadata": {},
   "outputs": [
    {
     "data": {
      "text/html": "<div>\n<style scoped>\n    .dataframe tbody tr th:only-of-type {\n        vertical-align: middle;\n    }\n\n    .dataframe tbody tr th {\n        vertical-align: top;\n    }\n\n    .dataframe thead th {\n        text-align: right;\n    }\n</style>\n<table border=\"1\" class=\"dataframe\">\n  <thead>\n    <tr style=\"text-align: right;\">\n      <th></th>\n      <th>flag</th>\n      <th>控制人ID</th>\n      <th>控制人持股比例</th>\n      <th>注册时间</th>\n      <th>注册资本</th>\n      <th>专利</th>\n      <th>商标</th>\n      <th>著作权</th>\n      <th>2015_债权融资成本</th>\n      <th>2015_债权融资额度</th>\n      <th>...</th>\n      <th>股份有限公司</th>\n      <th>集体所有制企业</th>\n      <th>企业法人</th>\n      <th>自然人</th>\n      <th>交通运输业</th>\n      <th>商业服务业</th>\n      <th>工业</th>\n      <th>服务业</th>\n      <th>社区服务</th>\n      <th>零售业</th>\n    </tr>\n  </thead>\n  <tbody>\n    <tr>\n      <td>0</td>\n      <td>1.0</td>\n      <td>NaN</td>\n      <td>NaN</td>\n      <td>2007.0</td>\n      <td>2050.0</td>\n      <td>0.0</td>\n      <td>1.0</td>\n      <td>1.0</td>\n      <td>0.0</td>\n      <td>0.0</td>\n      <td>...</td>\n      <td>0</td>\n      <td>0</td>\n      <td>1</td>\n      <td>0</td>\n      <td>1</td>\n      <td>0</td>\n      <td>0</td>\n      <td>0</td>\n      <td>0</td>\n      <td>0</td>\n    </tr>\n    <tr>\n      <td>1</td>\n      <td>1.0</td>\n      <td>NaN</td>\n      <td>1.00</td>\n      <td>2008.0</td>\n      <td>3360.0</td>\n      <td>0.0</td>\n      <td>0.0</td>\n      <td>0.0</td>\n      <td>0.0</td>\n      <td>0.0</td>\n      <td>...</td>\n      <td>0</td>\n      <td>0</td>\n      <td>1</td>\n      <td>0</td>\n      <td>0</td>\n      <td>0</td>\n      <td>0</td>\n      <td>1</td>\n      <td>0</td>\n      <td>0</td>\n    </tr>\n    <tr>\n      <td>2</td>\n      <td>1.0</td>\n      <td>NaN</td>\n      <td>0.75</td>\n      <td>2005.0</td>\n      <td>9670.0</td>\n      <td>1.0</td>\n      <td>0.0</td>\n      <td>0.0</td>\n      <td>1547.2</td>\n      <td>19340.0</td>\n      <td>...</td>\n      <td>0</td>\n      <td>1</td>\n      <td>0</td>\n      <td>1</td>\n      <td>0</td>\n      <td>0</td>\n      <td>1</td>\n      <td>0</td>\n      <td>0</td>\n      <td>0</td>\n    </tr>\n    <tr>\n      <td>3</td>\n      <td>1.0</td>\n      <td>NaN</td>\n      <td>0.98</td>\n      <td>2011.0</td>\n      <td>8360.0</td>\n      <td>0.0</td>\n      <td>0.0</td>\n      <td>0.0</td>\n      <td>0.0</td>\n      <td>0.0</td>\n      <td>...</td>\n      <td>1</td>\n      <td>0</td>\n      <td>1</td>\n      <td>0</td>\n      <td>0</td>\n      <td>0</td>\n      <td>0</td>\n      <td>0</td>\n      <td>1</td>\n      <td>0</td>\n    </tr>\n    <tr>\n      <td>4</td>\n      <td>1.0</td>\n      <td>NaN</td>\n      <td>0.54</td>\n      <td>2001.0</td>\n      <td>8720.0</td>\n      <td>0.0</td>\n      <td>0.0</td>\n      <td>0.0</td>\n      <td>0.0</td>\n      <td>0.0</td>\n      <td>...</td>\n      <td>1</td>\n      <td>0</td>\n      <td>1</td>\n      <td>0</td>\n      <td>0</td>\n      <td>0</td>\n      <td>0</td>\n      <td>0</td>\n      <td>0</td>\n      <td>1</td>\n    </tr>\n    <tr>\n      <td>...</td>\n      <td>...</td>\n      <td>...</td>\n      <td>...</td>\n      <td>...</td>\n      <td>...</td>\n      <td>...</td>\n      <td>...</td>\n      <td>...</td>\n      <td>...</td>\n      <td>...</td>\n      <td>...</td>\n      <td>...</td>\n      <td>...</td>\n      <td>...</td>\n      <td>...</td>\n      <td>...</td>\n      <td>...</td>\n      <td>...</td>\n      <td>...</td>\n      <td>...</td>\n      <td>...</td>\n    </tr>\n    <tr>\n      <td>45926</td>\n      <td>0.0</td>\n      <td>29995.0</td>\n      <td>0.83</td>\n      <td>2000.0</td>\n      <td>9650.0</td>\n      <td>0.0</td>\n      <td>1.0</td>\n      <td>1.0</td>\n      <td>0.0</td>\n      <td>0.0</td>\n      <td>...</td>\n      <td>0</td>\n      <td>0</td>\n      <td>1</td>\n      <td>0</td>\n      <td>0</td>\n      <td>0</td>\n      <td>1</td>\n      <td>0</td>\n      <td>0</td>\n      <td>0</td>\n    </tr>\n    <tr>\n      <td>45927</td>\n      <td>0.0</td>\n      <td>29996.0</td>\n      <td>0.93</td>\n      <td>2011.0</td>\n      <td>2170.0</td>\n      <td>1.0</td>\n      <td>1.0</td>\n      <td>0.0</td>\n      <td>0.0</td>\n      <td>0.0</td>\n      <td>...</td>\n      <td>0</td>\n      <td>0</td>\n      <td>0</td>\n      <td>1</td>\n      <td>0</td>\n      <td>0</td>\n      <td>0</td>\n      <td>0</td>\n      <td>0</td>\n      <td>1</td>\n    </tr>\n    <tr>\n      <td>45928</td>\n      <td>0.0</td>\n      <td>29997.0</td>\n      <td>0.73</td>\n      <td>2013.0</td>\n      <td>9030.0</td>\n      <td>1.0</td>\n      <td>1.0</td>\n      <td>0.0</td>\n      <td>0.0</td>\n      <td>0.0</td>\n      <td>...</td>\n      <td>0</td>\n      <td>1</td>\n      <td>1</td>\n      <td>0</td>\n      <td>1</td>\n      <td>0</td>\n      <td>0</td>\n      <td>0</td>\n      <td>0</td>\n      <td>0</td>\n    </tr>\n    <tr>\n      <td>45929</td>\n      <td>0.0</td>\n      <td>29998.0</td>\n      <td>0.64</td>\n      <td>2014.0</td>\n      <td>4510.0</td>\n      <td>0.0</td>\n      <td>0.0</td>\n      <td>0.0</td>\n      <td>0.0</td>\n      <td>0.0</td>\n      <td>...</td>\n      <td>1</td>\n      <td>0</td>\n      <td>0</td>\n      <td>1</td>\n      <td>0</td>\n      <td>0</td>\n      <td>0</td>\n      <td>1</td>\n      <td>0</td>\n      <td>0</td>\n    </tr>\n    <tr>\n      <td>45930</td>\n      <td>0.0</td>\n      <td>29999.0</td>\n      <td>0.80</td>\n      <td>2014.0</td>\n      <td>9130.0</td>\n      <td>1.0</td>\n      <td>1.0</td>\n      <td>1.0</td>\n      <td>0.0</td>\n      <td>0.0</td>\n      <td>...</td>\n      <td>1</td>\n      <td>0</td>\n      <td>0</td>\n      <td>1</td>\n      <td>1</td>\n      <td>0</td>\n      <td>0</td>\n      <td>0</td>\n      <td>0</td>\n      <td>0</td>\n    </tr>\n  </tbody>\n</table>\n<p>45931 rows × 72 columns</p>\n</div>",
      "text/plain": "       flag    控制人ID  控制人持股比例    注册时间    注册资本   专利   商标  著作权  2015_债权融资成本  \\\n0       1.0      NaN      NaN  2007.0  2050.0  0.0  1.0  1.0          0.0   \n1       1.0      NaN     1.00  2008.0  3360.0  0.0  0.0  0.0          0.0   \n2       1.0      NaN     0.75  2005.0  9670.0  1.0  0.0  0.0       1547.2   \n3       1.0      NaN     0.98  2011.0  8360.0  0.0  0.0  0.0          0.0   \n4       1.0      NaN     0.54  2001.0  8720.0  0.0  0.0  0.0          0.0   \n...     ...      ...      ...     ...     ...  ...  ...  ...          ...   \n45926   0.0  29995.0     0.83  2000.0  9650.0  0.0  1.0  1.0          0.0   \n45927   0.0  29996.0     0.93  2011.0  2170.0  1.0  1.0  0.0          0.0   \n45928   0.0  29997.0     0.73  2013.0  9030.0  1.0  1.0  0.0          0.0   \n45929   0.0  29998.0     0.64  2014.0  4510.0  0.0  0.0  0.0          0.0   \n45930   0.0  29999.0     0.80  2014.0  9130.0  1.0  1.0  1.0          0.0   \n\n       2015_债权融资额度  ...  股份有限公司  集体所有制企业  企业法人  自然人  交通运输业  商业服务业  工业  服务业  \\\n0              0.0  ...       0        0     1    0      1      0   0    0   \n1              0.0  ...       0        0     1    0      0      0   0    1   \n2          19340.0  ...       0        1     0    1      0      0   1    0   \n3              0.0  ...       1        0     1    0      0      0   0    0   \n4              0.0  ...       1        0     1    0      0      0   0    0   \n...            ...  ...     ...      ...   ...  ...    ...    ...  ..  ...   \n45926          0.0  ...       0        0     1    0      0      0   1    0   \n45927          0.0  ...       0        0     0    1      0      0   0    0   \n45928          0.0  ...       0        1     1    0      1      0   0    0   \n45929          0.0  ...       1        0     0    1      0      0   0    1   \n45930          0.0  ...       1        0     0    1      1      0   0    0   \n\n       社区服务  零售业  \n0         0    0  \n1         0    0  \n2         0    0  \n3         1    0  \n4         0    1  \n...     ...  ...  \n45926     0    0  \n45927     0    1  \n45928     0    0  \n45929     0    0  \n45930     0    0  \n\n[45931 rows x 72 columns]"
     },
     "execution_count": 19,
     "metadata": {},
     "output_type": "execute_result"
    }
   ],
   "source": [
    "d"
   ]
  },
  {
   "cell_type": "code",
   "execution_count": 21,
   "metadata": {},
   "outputs": [
    {
     "data": {
      "text/html": "<div>\n<style scoped>\n    .dataframe tbody tr th:only-of-type {\n        vertical-align: middle;\n    }\n\n    .dataframe tbody tr th {\n        vertical-align: top;\n    }\n\n    .dataframe thead th {\n        text-align: right;\n    }\n</style>\n<table border=\"1\" class=\"dataframe\">\n  <thead>\n    <tr style=\"text-align: right;\">\n      <th></th>\n      <th>flag</th>\n      <th>控制人ID</th>\n      <th>控制人持股比例</th>\n      <th>注册时间</th>\n      <th>注册资本</th>\n      <th>专利</th>\n      <th>商标</th>\n      <th>著作权</th>\n      <th>2015_债权融资成本</th>\n      <th>2015_债权融资额度</th>\n      <th>...</th>\n      <th>股份有限公司</th>\n      <th>集体所有制企业</th>\n      <th>企业法人</th>\n      <th>自然人</th>\n      <th>交通运输业</th>\n      <th>商业服务业</th>\n      <th>工业</th>\n      <th>服务业</th>\n      <th>社区服务</th>\n      <th>零售业</th>\n    </tr>\n  </thead>\n  <tbody>\n    <tr>\n      <td>7048</td>\n      <td>1.0</td>\n      <td>1.0</td>\n      <td>0.89</td>\n      <td>2010.0</td>\n      <td>6680.0</td>\n      <td>0.0</td>\n      <td>0.0</td>\n      <td>0.0</td>\n      <td>0.0</td>\n      <td>0.0</td>\n      <td>...</td>\n      <td>1</td>\n      <td>0</td>\n      <td>0</td>\n      <td>1</td>\n      <td>0</td>\n      <td>1</td>\n      <td>0</td>\n      <td>0</td>\n      <td>0</td>\n      <td>0</td>\n    </tr>\n    <tr>\n      <td>7051</td>\n      <td>1.0</td>\n      <td>614.0</td>\n      <td>0.58</td>\n      <td>2001.0</td>\n      <td>7730.0</td>\n      <td>0.0</td>\n      <td>0.0</td>\n      <td>0.0</td>\n      <td>0.0</td>\n      <td>0.0</td>\n      <td>...</td>\n      <td>0</td>\n      <td>1</td>\n      <td>1</td>\n      <td>0</td>\n      <td>0</td>\n      <td>0</td>\n      <td>1</td>\n      <td>0</td>\n      <td>0</td>\n      <td>0</td>\n    </tr>\n    <tr>\n      <td>7052</td>\n      <td>1.0</td>\n      <td>1057.0</td>\n      <td>0.84</td>\n      <td>2002.0</td>\n      <td>6840.0</td>\n      <td>0.0</td>\n      <td>1.0</td>\n      <td>1.0</td>\n      <td>0.0</td>\n      <td>0.0</td>\n      <td>...</td>\n      <td>0</td>\n      <td>0</td>\n      <td>0</td>\n      <td>1</td>\n      <td>0</td>\n      <td>0</td>\n      <td>1</td>\n      <td>0</td>\n      <td>0</td>\n      <td>0</td>\n    </tr>\n    <tr>\n      <td>7054</td>\n      <td>1.0</td>\n      <td>1967.0</td>\n      <td>0.81</td>\n      <td>2011.0</td>\n      <td>6120.0</td>\n      <td>0.0</td>\n      <td>0.0</td>\n      <td>0.0</td>\n      <td>0.0</td>\n      <td>0.0</td>\n      <td>...</td>\n      <td>0</td>\n      <td>1</td>\n      <td>1</td>\n      <td>0</td>\n      <td>1</td>\n      <td>0</td>\n      <td>0</td>\n      <td>0</td>\n      <td>0</td>\n      <td>0</td>\n    </tr>\n    <tr>\n      <td>7056</td>\n      <td>1.0</td>\n      <td>2067.0</td>\n      <td>0.56</td>\n      <td>2001.0</td>\n      <td>8430.0</td>\n      <td>1.0</td>\n      <td>1.0</td>\n      <td>0.0</td>\n      <td>0.0</td>\n      <td>0.0</td>\n      <td>...</td>\n      <td>0</td>\n      <td>0</td>\n      <td>1</td>\n      <td>0</td>\n      <td>0</td>\n      <td>0</td>\n      <td>1</td>\n      <td>0</td>\n      <td>0</td>\n      <td>0</td>\n    </tr>\n    <tr>\n      <td>...</td>\n      <td>...</td>\n      <td>...</td>\n      <td>...</td>\n      <td>...</td>\n      <td>...</td>\n      <td>...</td>\n      <td>...</td>\n      <td>...</td>\n      <td>...</td>\n      <td>...</td>\n      <td>...</td>\n      <td>...</td>\n      <td>...</td>\n      <td>...</td>\n      <td>...</td>\n      <td>...</td>\n      <td>...</td>\n      <td>...</td>\n      <td>...</td>\n      <td>...</td>\n      <td>...</td>\n    </tr>\n    <tr>\n      <td>45925</td>\n      <td>0.0</td>\n      <td>29994.0</td>\n      <td>0.65</td>\n      <td>2011.0</td>\n      <td>2960.0</td>\n      <td>0.0</td>\n      <td>0.0</td>\n      <td>0.0</td>\n      <td>0.0</td>\n      <td>0.0</td>\n      <td>...</td>\n      <td>1</td>\n      <td>0</td>\n      <td>1</td>\n      <td>0</td>\n      <td>0</td>\n      <td>1</td>\n      <td>0</td>\n      <td>0</td>\n      <td>0</td>\n      <td>0</td>\n    </tr>\n    <tr>\n      <td>45926</td>\n      <td>0.0</td>\n      <td>29995.0</td>\n      <td>0.83</td>\n      <td>2000.0</td>\n      <td>9650.0</td>\n      <td>0.0</td>\n      <td>1.0</td>\n      <td>1.0</td>\n      <td>0.0</td>\n      <td>0.0</td>\n      <td>...</td>\n      <td>0</td>\n      <td>0</td>\n      <td>1</td>\n      <td>0</td>\n      <td>0</td>\n      <td>0</td>\n      <td>1</td>\n      <td>0</td>\n      <td>0</td>\n      <td>0</td>\n    </tr>\n    <tr>\n      <td>45927</td>\n      <td>0.0</td>\n      <td>29996.0</td>\n      <td>0.93</td>\n      <td>2011.0</td>\n      <td>2170.0</td>\n      <td>1.0</td>\n      <td>1.0</td>\n      <td>0.0</td>\n      <td>0.0</td>\n      <td>0.0</td>\n      <td>...</td>\n      <td>0</td>\n      <td>0</td>\n      <td>0</td>\n      <td>1</td>\n      <td>0</td>\n      <td>0</td>\n      <td>0</td>\n      <td>0</td>\n      <td>0</td>\n      <td>1</td>\n    </tr>\n    <tr>\n      <td>45928</td>\n      <td>0.0</td>\n      <td>29997.0</td>\n      <td>0.73</td>\n      <td>2013.0</td>\n      <td>9030.0</td>\n      <td>1.0</td>\n      <td>1.0</td>\n      <td>0.0</td>\n      <td>0.0</td>\n      <td>0.0</td>\n      <td>...</td>\n      <td>0</td>\n      <td>1</td>\n      <td>1</td>\n      <td>0</td>\n      <td>1</td>\n      <td>0</td>\n      <td>0</td>\n      <td>0</td>\n      <td>0</td>\n      <td>0</td>\n    </tr>\n    <tr>\n      <td>45930</td>\n      <td>0.0</td>\n      <td>29999.0</td>\n      <td>0.80</td>\n      <td>2014.0</td>\n      <td>9130.0</td>\n      <td>1.0</td>\n      <td>1.0</td>\n      <td>1.0</td>\n      <td>0.0</td>\n      <td>0.0</td>\n      <td>...</td>\n      <td>1</td>\n      <td>0</td>\n      <td>0</td>\n      <td>1</td>\n      <td>1</td>\n      <td>0</td>\n      <td>0</td>\n      <td>0</td>\n      <td>0</td>\n      <td>0</td>\n    </tr>\n  </tbody>\n</table>\n<p>17106 rows × 72 columns</p>\n</div>",
      "text/plain": "       flag    控制人ID  控制人持股比例    注册时间    注册资本   专利   商标  著作权  2015_债权融资成本  \\\n7048    1.0      1.0     0.89  2010.0  6680.0  0.0  0.0  0.0          0.0   \n7051    1.0    614.0     0.58  2001.0  7730.0  0.0  0.0  0.0          0.0   \n7052    1.0   1057.0     0.84  2002.0  6840.0  0.0  1.0  1.0          0.0   \n7054    1.0   1967.0     0.81  2011.0  6120.0  0.0  0.0  0.0          0.0   \n7056    1.0   2067.0     0.56  2001.0  8430.0  1.0  1.0  0.0          0.0   \n...     ...      ...      ...     ...     ...  ...  ...  ...          ...   \n45925   0.0  29994.0     0.65  2011.0  2960.0  0.0  0.0  0.0          0.0   \n45926   0.0  29995.0     0.83  2000.0  9650.0  0.0  1.0  1.0          0.0   \n45927   0.0  29996.0     0.93  2011.0  2170.0  1.0  1.0  0.0          0.0   \n45928   0.0  29997.0     0.73  2013.0  9030.0  1.0  1.0  0.0          0.0   \n45930   0.0  29999.0     0.80  2014.0  9130.0  1.0  1.0  1.0          0.0   \n\n       2015_债权融资额度  ...  股份有限公司  集体所有制企业  企业法人  自然人  交通运输业  商业服务业  工业  服务业  \\\n7048           0.0  ...       1        0     0    1      0      1   0    0   \n7051           0.0  ...       0        1     1    0      0      0   1    0   \n7052           0.0  ...       0        0     0    1      0      0   1    0   \n7054           0.0  ...       0        1     1    0      1      0   0    0   \n7056           0.0  ...       0        0     1    0      0      0   1    0   \n...            ...  ...     ...      ...   ...  ...    ...    ...  ..  ...   \n45925          0.0  ...       1        0     1    0      0      1   0    0   \n45926          0.0  ...       0        0     1    0      0      0   1    0   \n45927          0.0  ...       0        0     0    1      0      0   0    0   \n45928          0.0  ...       0        1     1    0      1      0   0    0   \n45930          0.0  ...       1        0     0    1      1      0   0    0   \n\n       社区服务  零售业  \n7048      0    0  \n7051      0    0  \n7052      0    0  \n7054      0    0  \n7056      0    0  \n...     ...  ...  \n45925     0    0  \n45926     0    0  \n45927     0    1  \n45928     0    0  \n45930     0    0  \n\n[17106 rows x 72 columns]"
     },
     "execution_count": 21,
     "metadata": {},
     "output_type": "execute_result"
    }
   ],
   "source": [
    "d.dropna(how='any',inplace=True)\n",
    "d"
   ]
  },
  {
   "cell_type": "code",
   "execution_count": 23,
   "metadata": {},
   "outputs": [],
   "source": [
    "d.to_csv('data_without_na.csv',index=0,encoding='utf-8')"
   ]
  }
 ]
}