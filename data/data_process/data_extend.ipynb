{
 "nbformat": 4,
 "nbformat_minor": 2,
 "metadata": {
  "language_info": {
   "name": "python",
   "codemirror_mode": {
    "name": "ipython",
    "version": 3
   },
   "version": "3.7.4-final"
  },
  "orig_nbformat": 2,
  "file_extension": ".py",
  "mimetype": "text/x-python",
  "name": "python",
  "npconvert_exporter": "python",
  "pygments_lexer": "ipython3",
  "version": 3,
  "kernelspec": {
   "name": "python37464bitbaseconda34a90a4a34b4411792b3131c31ec0620",
   "display_name": "Python 3.7.4 64-bit ('base': conda)"
  }
 },
 "cells": [
  {
   "cell_type": "code",
   "execution_count": 1,
   "metadata": {},
   "outputs": [],
   "source": [
    "import pandas as pd\n",
    "import numpy as np"
   ]
  },
  {
   "cell_type": "code",
   "execution_count": 17,
   "metadata": {},
   "outputs": [
    {
     "data": {
      "text/html": "<div>\n<style scoped>\n    .dataframe tbody tr th:only-of-type {\n        vertical-align: middle;\n    }\n\n    .dataframe tbody tr th {\n        vertical-align: top;\n    }\n\n    .dataframe thead th {\n        text-align: right;\n    }\n</style>\n<table border=\"1\" class=\"dataframe\">\n  <thead>\n    <tr style=\"text-align: right;\">\n      <th></th>\n      <th>Unnamed: 0</th>\n      <th>ID</th>\n      <th>flag</th>\n      <th>控制人ID</th>\n      <th>控制人持股比例</th>\n      <th>注册时间</th>\n      <th>注册资本</th>\n      <th>专利</th>\n      <th>商标</th>\n      <th>著作权</th>\n      <th>...</th>\n      <th>股份有限公司</th>\n      <th>集体所有制企业</th>\n      <th>企业法人</th>\n      <th>自然人</th>\n      <th>交通运输业</th>\n      <th>商业服务业</th>\n      <th>工业</th>\n      <th>服务业</th>\n      <th>社区服务</th>\n      <th>零售业</th>\n    </tr>\n  </thead>\n  <tbody>\n    <tr>\n      <td>0</td>\n      <td>0</td>\n      <td>28</td>\n      <td>1.0</td>\n      <td>NaN</td>\n      <td>NaN</td>\n      <td>2007.0</td>\n      <td>2050.0</td>\n      <td>0.0</td>\n      <td>1.0</td>\n      <td>1.0</td>\n      <td>...</td>\n      <td>0</td>\n      <td>0</td>\n      <td>1</td>\n      <td>0</td>\n      <td>1</td>\n      <td>0</td>\n      <td>0</td>\n      <td>0</td>\n      <td>0</td>\n      <td>0</td>\n    </tr>\n    <tr>\n      <td>1</td>\n      <td>1</td>\n      <td>230</td>\n      <td>1.0</td>\n      <td>NaN</td>\n      <td>1.00</td>\n      <td>2008.0</td>\n      <td>3360.0</td>\n      <td>0.0</td>\n      <td>0.0</td>\n      <td>0.0</td>\n      <td>...</td>\n      <td>0</td>\n      <td>0</td>\n      <td>1</td>\n      <td>0</td>\n      <td>0</td>\n      <td>0</td>\n      <td>0</td>\n      <td>1</td>\n      <td>0</td>\n      <td>0</td>\n    </tr>\n    <tr>\n      <td>2</td>\n      <td>2</td>\n      <td>429</td>\n      <td>1.0</td>\n      <td>NaN</td>\n      <td>0.75</td>\n      <td>2005.0</td>\n      <td>9670.0</td>\n      <td>1.0</td>\n      <td>0.0</td>\n      <td>0.0</td>\n      <td>...</td>\n      <td>0</td>\n      <td>1</td>\n      <td>0</td>\n      <td>1</td>\n      <td>0</td>\n      <td>0</td>\n      <td>1</td>\n      <td>0</td>\n      <td>0</td>\n      <td>0</td>\n    </tr>\n    <tr>\n      <td>3</td>\n      <td>3</td>\n      <td>693</td>\n      <td>1.0</td>\n      <td>NaN</td>\n      <td>0.98</td>\n      <td>2011.0</td>\n      <td>8360.0</td>\n      <td>0.0</td>\n      <td>0.0</td>\n      <td>0.0</td>\n      <td>...</td>\n      <td>1</td>\n      <td>0</td>\n      <td>1</td>\n      <td>0</td>\n      <td>0</td>\n      <td>0</td>\n      <td>0</td>\n      <td>0</td>\n      <td>1</td>\n      <td>0</td>\n    </tr>\n    <tr>\n      <td>4</td>\n      <td>4</td>\n      <td>727</td>\n      <td>1.0</td>\n      <td>NaN</td>\n      <td>0.54</td>\n      <td>2001.0</td>\n      <td>8720.0</td>\n      <td>0.0</td>\n      <td>0.0</td>\n      <td>0.0</td>\n      <td>...</td>\n      <td>1</td>\n      <td>0</td>\n      <td>1</td>\n      <td>0</td>\n      <td>0</td>\n      <td>0</td>\n      <td>0</td>\n      <td>0</td>\n      <td>0</td>\n      <td>1</td>\n    </tr>\n    <tr>\n      <td>...</td>\n      <td>...</td>\n      <td>...</td>\n      <td>...</td>\n      <td>...</td>\n      <td>...</td>\n      <td>...</td>\n      <td>...</td>\n      <td>...</td>\n      <td>...</td>\n      <td>...</td>\n      <td>...</td>\n      <td>...</td>\n      <td>...</td>\n      <td>...</td>\n      <td>...</td>\n      <td>...</td>\n      <td>...</td>\n      <td>...</td>\n      <td>...</td>\n      <td>...</td>\n      <td>...</td>\n    </tr>\n    <tr>\n      <td>45926</td>\n      <td>45926</td>\n      <td>5999995</td>\n      <td>0.0</td>\n      <td>29995.0</td>\n      <td>0.83</td>\n      <td>2000.0</td>\n      <td>9650.0</td>\n      <td>0.0</td>\n      <td>1.0</td>\n      <td>1.0</td>\n      <td>...</td>\n      <td>0</td>\n      <td>0</td>\n      <td>1</td>\n      <td>0</td>\n      <td>0</td>\n      <td>0</td>\n      <td>1</td>\n      <td>0</td>\n      <td>0</td>\n      <td>0</td>\n    </tr>\n    <tr>\n      <td>45927</td>\n      <td>45927</td>\n      <td>5999996</td>\n      <td>0.0</td>\n      <td>29996.0</td>\n      <td>0.93</td>\n      <td>2011.0</td>\n      <td>2170.0</td>\n      <td>1.0</td>\n      <td>1.0</td>\n      <td>0.0</td>\n      <td>...</td>\n      <td>0</td>\n      <td>0</td>\n      <td>0</td>\n      <td>1</td>\n      <td>0</td>\n      <td>0</td>\n      <td>0</td>\n      <td>0</td>\n      <td>0</td>\n      <td>1</td>\n    </tr>\n    <tr>\n      <td>45928</td>\n      <td>45928</td>\n      <td>5999997</td>\n      <td>0.0</td>\n      <td>29997.0</td>\n      <td>0.73</td>\n      <td>2013.0</td>\n      <td>9030.0</td>\n      <td>1.0</td>\n      <td>1.0</td>\n      <td>0.0</td>\n      <td>...</td>\n      <td>0</td>\n      <td>1</td>\n      <td>1</td>\n      <td>0</td>\n      <td>1</td>\n      <td>0</td>\n      <td>0</td>\n      <td>0</td>\n      <td>0</td>\n      <td>0</td>\n    </tr>\n    <tr>\n      <td>45929</td>\n      <td>45929</td>\n      <td>5999998</td>\n      <td>0.0</td>\n      <td>29998.0</td>\n      <td>0.64</td>\n      <td>2014.0</td>\n      <td>4510.0</td>\n      <td>0.0</td>\n      <td>0.0</td>\n      <td>0.0</td>\n      <td>...</td>\n      <td>1</td>\n      <td>0</td>\n      <td>0</td>\n      <td>1</td>\n      <td>0</td>\n      <td>0</td>\n      <td>0</td>\n      <td>1</td>\n      <td>0</td>\n      <td>0</td>\n    </tr>\n    <tr>\n      <td>45930</td>\n      <td>45930</td>\n      <td>5999999</td>\n      <td>0.0</td>\n      <td>29999.0</td>\n      <td>0.80</td>\n      <td>2014.0</td>\n      <td>9130.0</td>\n      <td>1.0</td>\n      <td>1.0</td>\n      <td>1.0</td>\n      <td>...</td>\n      <td>1</td>\n      <td>0</td>\n      <td>0</td>\n      <td>1</td>\n      <td>1</td>\n      <td>0</td>\n      <td>0</td>\n      <td>0</td>\n      <td>0</td>\n      <td>0</td>\n    </tr>\n  </tbody>\n</table>\n<p>45931 rows × 74 columns</p>\n</div>",
      "text/plain": "       Unnamed: 0       ID  flag    控制人ID  控制人持股比例    注册时间    注册资本   专利   商标  \\\n0               0       28   1.0      NaN      NaN  2007.0  2050.0  0.0  1.0   \n1               1      230   1.0      NaN     1.00  2008.0  3360.0  0.0  0.0   \n2               2      429   1.0      NaN     0.75  2005.0  9670.0  1.0  0.0   \n3               3      693   1.0      NaN     0.98  2011.0  8360.0  0.0  0.0   \n4               4      727   1.0      NaN     0.54  2001.0  8720.0  0.0  0.0   \n...           ...      ...   ...      ...      ...     ...     ...  ...  ...   \n45926       45926  5999995   0.0  29995.0     0.83  2000.0  9650.0  0.0  1.0   \n45927       45927  5999996   0.0  29996.0     0.93  2011.0  2170.0  1.0  1.0   \n45928       45928  5999997   0.0  29997.0     0.73  2013.0  9030.0  1.0  1.0   \n45929       45929  5999998   0.0  29998.0     0.64  2014.0  4510.0  0.0  0.0   \n45930       45930  5999999   0.0  29999.0     0.80  2014.0  9130.0  1.0  1.0   \n\n       著作权  ...  股份有限公司  集体所有制企业  企业法人  自然人  交通运输业  商业服务业  工业  服务业  社区服务  零售业  \n0      1.0  ...       0        0     1    0      1      0   0    0     0    0  \n1      0.0  ...       0        0     1    0      0      0   0    1     0    0  \n2      0.0  ...       0        1     0    1      0      0   1    0     0    0  \n3      0.0  ...       1        0     1    0      0      0   0    0     1    0  \n4      0.0  ...       1        0     1    0      0      0   0    0     0    1  \n...    ...  ...     ...      ...   ...  ...    ...    ...  ..  ...   ...  ...  \n45926  1.0  ...       0        0     1    0      0      0   1    0     0    0  \n45927  0.0  ...       0        0     0    1      0      0   0    0     0    1  \n45928  0.0  ...       0        1     1    0      1      0   0    0     0    0  \n45929  0.0  ...       1        0     0    1      0      0   0    1     0    0  \n45930  1.0  ...       1        0     0    1      1      0   0    0     0    0  \n\n[45931 rows x 74 columns]"
     },
     "execution_count": 17,
     "metadata": {},
     "output_type": "execute_result"
    }
   ],
   "source": [
    "data=pd.read_csv('data_with_na.csv',encoding='utf-8')\n",
    "data"
   ]
  },
  {
   "cell_type": "code",
   "execution_count": 18,
   "metadata": {},
   "outputs": [
    {
     "data": {
      "text/html": "<div>\n<style scoped>\n    .dataframe tbody tr th:only-of-type {\n        vertical-align: middle;\n    }\n\n    .dataframe tbody tr th {\n        vertical-align: top;\n    }\n\n    .dataframe thead th {\n        text-align: right;\n    }\n</style>\n<table border=\"1\" class=\"dataframe\">\n  <thead>\n    <tr style=\"text-align: right;\">\n      <th></th>\n      <th>flag</th>\n      <th>控制人持股比例</th>\n      <th>注册资本</th>\n      <th>专利</th>\n      <th>商标</th>\n      <th>著作权</th>\n      <th>2015_债权融资成本</th>\n      <th>2015_债权融资额度</th>\n      <th>2015_内部融资和贸易融资成本</th>\n      <th>2015_内部融资和贸易融资额度</th>\n      <th>...</th>\n      <th>股份有限公司</th>\n      <th>集体所有制企业</th>\n      <th>企业法人</th>\n      <th>自然人</th>\n      <th>交通运输业</th>\n      <th>商业服务业</th>\n      <th>工业</th>\n      <th>服务业</th>\n      <th>社区服务</th>\n      <th>零售业</th>\n    </tr>\n  </thead>\n  <tbody>\n    <tr>\n      <td>0</td>\n      <td>1.0</td>\n      <td>NaN</td>\n      <td>2050.0</td>\n      <td>0.0</td>\n      <td>1.0</td>\n      <td>1.0</td>\n      <td>0.0</td>\n      <td>0.0</td>\n      <td>1298.88</td>\n      <td>21648.0</td>\n      <td>...</td>\n      <td>0</td>\n      <td>0</td>\n      <td>1</td>\n      <td>0</td>\n      <td>1</td>\n      <td>0</td>\n      <td>0</td>\n      <td>0</td>\n      <td>0</td>\n      <td>0</td>\n    </tr>\n    <tr>\n      <td>1</td>\n      <td>1.0</td>\n      <td>1.00</td>\n      <td>3360.0</td>\n      <td>0.0</td>\n      <td>0.0</td>\n      <td>0.0</td>\n      <td>0.0</td>\n      <td>0.0</td>\n      <td>0.00</td>\n      <td>0.0</td>\n      <td>...</td>\n      <td>0</td>\n      <td>0</td>\n      <td>1</td>\n      <td>0</td>\n      <td>0</td>\n      <td>0</td>\n      <td>0</td>\n      <td>1</td>\n      <td>0</td>\n      <td>0</td>\n    </tr>\n    <tr>\n      <td>2</td>\n      <td>1.0</td>\n      <td>0.75</td>\n      <td>9670.0</td>\n      <td>1.0</td>\n      <td>0.0</td>\n      <td>0.0</td>\n      <td>1547.2</td>\n      <td>19340.0</td>\n      <td>0.00</td>\n      <td>0.0</td>\n      <td>...</td>\n      <td>0</td>\n      <td>1</td>\n      <td>0</td>\n      <td>1</td>\n      <td>0</td>\n      <td>0</td>\n      <td>1</td>\n      <td>0</td>\n      <td>0</td>\n      <td>0</td>\n    </tr>\n    <tr>\n      <td>3</td>\n      <td>1.0</td>\n      <td>0.98</td>\n      <td>8360.0</td>\n      <td>0.0</td>\n      <td>0.0</td>\n      <td>0.0</td>\n      <td>0.0</td>\n      <td>0.0</td>\n      <td>0.00</td>\n      <td>0.0</td>\n      <td>...</td>\n      <td>1</td>\n      <td>0</td>\n      <td>1</td>\n      <td>0</td>\n      <td>0</td>\n      <td>0</td>\n      <td>0</td>\n      <td>0</td>\n      <td>1</td>\n      <td>0</td>\n    </tr>\n    <tr>\n      <td>4</td>\n      <td>1.0</td>\n      <td>0.54</td>\n      <td>8720.0</td>\n      <td>0.0</td>\n      <td>0.0</td>\n      <td>0.0</td>\n      <td>0.0</td>\n      <td>0.0</td>\n      <td>0.00</td>\n      <td>0.0</td>\n      <td>...</td>\n      <td>1</td>\n      <td>0</td>\n      <td>1</td>\n      <td>0</td>\n      <td>0</td>\n      <td>0</td>\n      <td>0</td>\n      <td>0</td>\n      <td>0</td>\n      <td>1</td>\n    </tr>\n    <tr>\n      <td>...</td>\n      <td>...</td>\n      <td>...</td>\n      <td>...</td>\n      <td>...</td>\n      <td>...</td>\n      <td>...</td>\n      <td>...</td>\n      <td>...</td>\n      <td>...</td>\n      <td>...</td>\n      <td>...</td>\n      <td>...</td>\n      <td>...</td>\n      <td>...</td>\n      <td>...</td>\n      <td>...</td>\n      <td>...</td>\n      <td>...</td>\n      <td>...</td>\n      <td>...</td>\n      <td>...</td>\n    </tr>\n    <tr>\n      <td>45926</td>\n      <td>0.0</td>\n      <td>0.83</td>\n      <td>9650.0</td>\n      <td>0.0</td>\n      <td>1.0</td>\n      <td>1.0</td>\n      <td>0.0</td>\n      <td>0.0</td>\n      <td>0.00</td>\n      <td>0.0</td>\n      <td>...</td>\n      <td>0</td>\n      <td>0</td>\n      <td>1</td>\n      <td>0</td>\n      <td>0</td>\n      <td>0</td>\n      <td>1</td>\n      <td>0</td>\n      <td>0</td>\n      <td>0</td>\n    </tr>\n    <tr>\n      <td>45927</td>\n      <td>0.0</td>\n      <td>0.93</td>\n      <td>2170.0</td>\n      <td>1.0</td>\n      <td>1.0</td>\n      <td>0.0</td>\n      <td>0.0</td>\n      <td>0.0</td>\n      <td>0.00</td>\n      <td>0.0</td>\n      <td>...</td>\n      <td>0</td>\n      <td>0</td>\n      <td>0</td>\n      <td>1</td>\n      <td>0</td>\n      <td>0</td>\n      <td>0</td>\n      <td>0</td>\n      <td>0</td>\n      <td>1</td>\n    </tr>\n    <tr>\n      <td>45928</td>\n      <td>0.0</td>\n      <td>0.73</td>\n      <td>9030.0</td>\n      <td>1.0</td>\n      <td>1.0</td>\n      <td>0.0</td>\n      <td>0.0</td>\n      <td>0.0</td>\n      <td>7151.76</td>\n      <td>119196.0</td>\n      <td>...</td>\n      <td>0</td>\n      <td>1</td>\n      <td>1</td>\n      <td>0</td>\n      <td>1</td>\n      <td>0</td>\n      <td>0</td>\n      <td>0</td>\n      <td>0</td>\n      <td>0</td>\n    </tr>\n    <tr>\n      <td>45929</td>\n      <td>0.0</td>\n      <td>0.64</td>\n      <td>4510.0</td>\n      <td>0.0</td>\n      <td>0.0</td>\n      <td>0.0</td>\n      <td>0.0</td>\n      <td>0.0</td>\n      <td>0.00</td>\n      <td>0.0</td>\n      <td>...</td>\n      <td>1</td>\n      <td>0</td>\n      <td>0</td>\n      <td>1</td>\n      <td>0</td>\n      <td>0</td>\n      <td>0</td>\n      <td>1</td>\n      <td>0</td>\n      <td>0</td>\n    </tr>\n    <tr>\n      <td>45930</td>\n      <td>0.0</td>\n      <td>0.80</td>\n      <td>9130.0</td>\n      <td>1.0</td>\n      <td>1.0</td>\n      <td>1.0</td>\n      <td>0.0</td>\n      <td>0.0</td>\n      <td>0.00</td>\n      <td>0.0</td>\n      <td>...</td>\n      <td>1</td>\n      <td>0</td>\n      <td>0</td>\n      <td>1</td>\n      <td>1</td>\n      <td>0</td>\n      <td>0</td>\n      <td>0</td>\n      <td>0</td>\n      <td>0</td>\n    </tr>\n  </tbody>\n</table>\n<p>45931 rows × 70 columns</p>\n</div>",
      "text/plain": "       flag  控制人持股比例    注册资本   专利   商标  著作权  2015_债权融资成本  2015_债权融资额度  \\\n0       1.0      NaN  2050.0  0.0  1.0  1.0          0.0          0.0   \n1       1.0     1.00  3360.0  0.0  0.0  0.0          0.0          0.0   \n2       1.0     0.75  9670.0  1.0  0.0  0.0       1547.2      19340.0   \n3       1.0     0.98  8360.0  0.0  0.0  0.0          0.0          0.0   \n4       1.0     0.54  8720.0  0.0  0.0  0.0          0.0          0.0   \n...     ...      ...     ...  ...  ...  ...          ...          ...   \n45926   0.0     0.83  9650.0  0.0  1.0  1.0          0.0          0.0   \n45927   0.0     0.93  2170.0  1.0  1.0  0.0          0.0          0.0   \n45928   0.0     0.73  9030.0  1.0  1.0  0.0          0.0          0.0   \n45929   0.0     0.64  4510.0  0.0  0.0  0.0          0.0          0.0   \n45930   0.0     0.80  9130.0  1.0  1.0  1.0          0.0          0.0   \n\n       2015_内部融资和贸易融资成本  2015_内部融资和贸易融资额度  ...  股份有限公司  集体所有制企业  企业法人  自然人  \\\n0               1298.88           21648.0  ...       0        0     1    0   \n1                  0.00               0.0  ...       0        0     1    0   \n2                  0.00               0.0  ...       0        1     0    1   \n3                  0.00               0.0  ...       1        0     1    0   \n4                  0.00               0.0  ...       1        0     1    0   \n...                 ...               ...  ...     ...      ...   ...  ...   \n45926              0.00               0.0  ...       0        0     1    0   \n45927              0.00               0.0  ...       0        0     0    1   \n45928           7151.76          119196.0  ...       0        1     1    0   \n45929              0.00               0.0  ...       1        0     0    1   \n45930              0.00               0.0  ...       1        0     0    1   \n\n       交通运输业  商业服务业  工业  服务业  社区服务  零售业  \n0          1      0   0    0     0    0  \n1          0      0   0    1     0    0  \n2          0      0   1    0     0    0  \n3          0      0   0    0     1    0  \n4          0      0   0    0     0    1  \n...      ...    ...  ..  ...   ...  ...  \n45926      0      0   1    0     0    0  \n45927      0      0   0    0     0    1  \n45928      1      0   0    0     0    0  \n45929      0      0   0    1     0    0  \n45930      1      0   0    0     0    0  \n\n[45931 rows x 70 columns]"
     },
     "execution_count": 18,
     "metadata": {},
     "output_type": "execute_result"
    }
   ],
   "source": [
    "data=data.drop(['Unnamed: 0','ID','控制人ID','注册时间'],axis=1)\n",
    "data"
   ]
  },
  {
   "cell_type": "code",
   "execution_count": 22,
   "metadata": {},
   "outputs": [
    {
     "data": {
      "text/plain": "0        0.754745\n1        1.000000\n2        0.750000\n3        0.980000\n4        0.540000\n           ...   \n45926    0.830000\n45927    0.930000\n45928    0.730000\n45929    0.640000\n45930    0.800000\nName: 控制人持股比例, Length: 45931, dtype: float64"
     },
     "execution_count": 22,
     "metadata": {},
     "output_type": "execute_result"
    }
   ],
   "source": [
    "data['控制人持股比例'].fillna(data['控制人持股比例'].mean(),inplace=True)"
   ]
  },
  {
   "cell_type": "code",
   "execution_count": 24,
   "metadata": {},
   "outputs": [
    {
     "data": {
      "text/plain": "Index(['flag', '控制人持股比例', '注册资本', '专利', '商标', '著作权', '2015_债权融资成本',\n       '2015_债权融资额度', '2015_内部融资和贸易融资成本', '2015_内部融资和贸易融资额度', '2015_股权融资成本',\n       '2015_股权融资额度', '2015_项目融资和政策融资成本', '2015_项目融资和政策融资额度', '2016_债权融资成本',\n       '2016_债权融资额度', '2016_内部融资和贸易融资成本', '2016_内部融资和贸易融资额度', '2016_股权融资成本',\n       '2016_股权融资额度', '2016_项目融资和政策融资成本', '2016_项目融资和政策融资额度', '2017_债权融资成本',\n       '2017_债权融资额度', '2017_内部融资和贸易融资成本', '2017_内部融资和贸易融资额度', '2017_股权融资成本',\n       '2017_股权融资额度', '2017_项目融资和政策融资成本', '2017_项目融资和政策融资额度', '2015_主营业务收入',\n       '2015_从业人数', '2015_净利润', '2015_利润总额', '2015_所有者权益合计', '2015_纳税总额',\n       '2015_营业总收入', '2015_负债总额', '2015_资产总额', '2016_主营业务收入', '2016_从业人数',\n       '2016_净利润', '2016_利润总额', '2016_所有者权益合计', '2016_纳税总额', '2016_营业总收入',\n       '2016_负债总额', '2016_资产总额', '2017_主营业务收入', '2017_从业人数', '2017_净利润',\n       '2017_利润总额', '2017_所有者权益合计', '2017_纳税总额', '2017_营业总收入', '2017_负债总额',\n       '2017_资产总额', '农民专业合作社', '合伙企业', '有限责任公司', '股份有限公司', '集体所有制企业', '企业法人',\n       '自然人', '交通运输业', '商业服务业', '工业', '服务业', '社区服务', '零售业'],\n      dtype='object')"
     },
     "execution_count": 24,
     "metadata": {},
     "output_type": "execute_result"
    }
   ],
   "source": [
    "for column in data.columns:\n",
    "    if()"
   ]
  }
 ]
}